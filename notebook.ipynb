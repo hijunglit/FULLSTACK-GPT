{
 "cells": [
  {
   "cell_type": "code",
   "execution_count": null,
   "id": "d323d186",
   "metadata": {},
   "outputs": [
    {
     "data": {
      "text/plain": [
       "'\\nTomato is a fruit that grows on a vine and has a red, juicy flesh. It is often used in cooking and can be eaten raw or cooked.'"
      ]
     },
     "execution_count": 9,
     "metadata": {},
     "output_type": "execute_result"
    }
   ],
   "source": [
    "from langchain.llms.gpt4all import GPT4All\n",
    "from langchain.prompts import PromptTemplate\n",
    "\n",
    "# prompt = PromptTemplate.from_template(\"A {word} is a\")\n",
    "prompt = PromptTemplate.from_template(\"You are a helpful assistant that defineds words. Define this wird: {word}.\")\n",
    "\n",
    "llm = GPT4All(model = \"gpt4all-falcon-newbpe-q4_0.gguf\")\n",
    "\n",
    "chain = prompt | llm\n",
    "\n",
    "chain.invoke({\"word\": \"tomato\"})\n",
    "# with model.chat_session():\n",
    "#     print(model.generate(\"How can I run LLMs efficiently on my laptop?\", max_tokens=1024))"
   ]
  }
 ],
 "metadata": {
  "kernelspec": {
   "display_name": "env",
   "language": "python",
   "name": "python3"
  },
  "language_info": {
   "codemirror_mode": {
    "name": "ipython",
    "version": 3
   },
   "file_extension": ".py",
   "mimetype": "text/x-python",
   "name": "python",
   "nbconvert_exporter": "python",
   "pygments_lexer": "ipython3",
   "version": "3.11.6"
  }
 },
 "nbformat": 4,
 "nbformat_minor": 5
}
