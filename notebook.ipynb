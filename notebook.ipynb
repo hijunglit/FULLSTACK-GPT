{
 "cells": [
  {
   "cell_type": "code",
   "execution_count": 3,
   "id": "d323d186",
   "metadata": {},
   "outputs": [
    {
     "name": "stderr",
     "output_type": "stream",
     "text": [
      "/Users/junghaein/Documents/FULLSTACK_GPT/env/lib/python3.11/site-packages/langchain/chains/llm.py:366: UserWarning: The apply_and_parse method is deprecated, instead pass an output parser directly to LLMChain.\n",
      "  warnings.warn(\n",
      "Error in LangChainTracer.on_chain_start callback: ValidationError(model='Run', errors=[{'loc': ('__root__',), 'msg': \"argument of type 'NoneType' is not iterable\", 'type': 'type_error'}])\n",
      "Parent run cedf2d39-b6d5-4903-8517-580144dfcac0 not found for run aba984a3-2cd9-41f7-b82a-eddca6119ca9. Treating as a root run.\n",
      "Parent run cedf2d39-b6d5-4903-8517-580144dfcac0 not found for run f131c3df-5445-483b-8271-90edd38affc1. Treating as a root run.\n",
      "Parent run cedf2d39-b6d5-4903-8517-580144dfcac0 not found for run 9a45dbf2-f5e8-4ac5-b837-9c6232cddeff. Treating as a root run.\n",
      "Parent run cedf2d39-b6d5-4903-8517-580144dfcac0 not found for run 93569058-b8f8-40ac-8070-7e95f0b7328e. Treating as a root run.\n",
      "Error in LangChainTracer.on_chain_end callback: TracerException('No indexed run ID cedf2d39-b6d5-4903-8517-580144dfcac0.')\n"
     ]
    },
    {
     "data": {
      "text/plain": [
       "\"Victory Mansions is a building with a smelly hallway, featuring boiled cabbage and old rag mats. The building is run-down, with a rarely working lift and posters of Big Brother watching you on every landing. The telescreen constantly blares out figures related to pig-iron production and cannot be fully turned off. Winston's flat is located on the seventh floor of the building.\""
      ]
     },
     "execution_count": 3,
     "metadata": {},
     "output_type": "execute_result"
    }
   ],
   "source": [
    "from langchain.chat_models import ChatOpenAI\n",
    "from langchain.document_loaders import UnstructuredFileLoader\n",
    "from langchain.text_splitter import CharacterTextSplitter\n",
    "from langchain.embeddings import OpenAIEmbeddings, CacheBackedEmbeddings\n",
    "from langchain.vectorstores import FAISS\n",
    "from langchain.storage import LocalFileStore\n",
    "from langchain.chains import RetrievalQA\n",
    "\n",
    "llm = ChatOpenAI()\n",
    "\n",
    "cache_dir = LocalFileStore(\"./.cache/\")\n",
    "\n",
    "splitter = CharacterTextSplitter.from_tiktoken_encoder( \n",
    "    separator=\"\\n\",\n",
    "    chunk_size=600,\n",
    "    chunk_overlap=100,\n",
    ")\n",
    "loader = UnstructuredFileLoader(\"./files/chapter_one.docx\")\n",
    "\n",
    "docs = loader.load_and_split(text_splitter=splitter)\n",
    "\n",
    "embeddings = OpenAIEmbeddings()\n",
    "\n",
    "cached_embeddings = CacheBackedEmbeddings.from_bytes_store(\n",
    "    embeddings, cache_dir)\n",
    "\n",
    "vectorstore = FAISS.from_documents(docs, cached_embeddings)\n",
    "\n",
    "chain = RetrievalQA.from_chain_type(\n",
    "    llm = llm,\n",
    "    chain_type = \"map_rerank\",\n",
    "    retriever = vectorstore.as_retriever()\n",
    ")\n",
    "\n",
    "chain.run(\"Describe Victory Mansions\")"
   ]
  }
 ],
 "metadata": {
  "kernelspec": {
   "display_name": "env",
   "language": "python",
   "name": "python3"
  },
  "language_info": {
   "codemirror_mode": {
    "name": "ipython",
    "version": 3
   },
   "file_extension": ".py",
   "mimetype": "text/x-python",
   "name": "python",
   "nbconvert_exporter": "python",
   "pygments_lexer": "ipython3",
   "version": "3.11.6"
  }
 },
 "nbformat": 4,
 "nbformat_minor": 5
}
