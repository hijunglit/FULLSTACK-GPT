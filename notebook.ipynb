{
 "cells": [
  {
   "cell_type": "code",
   "execution_count": 1,
   "id": "2383d97f",
   "metadata": {},
   "outputs": [
    {
     "name": "stderr",
     "output_type": "stream",
     "text": [
      "/Users/junghaein/Documents/FULLSTACK_GPT/env/lib/python3.11/site-packages/tqdm/auto.py:21: TqdmWarning: IProgress not found. Please update jupyter and ipywidgets. See https://ipywidgets.readthedocs.io/en/stable/user_install.html\n",
      "  from .autonotebook import tqdm as notebook_tqdm\n"
     ]
    },
    {
     "data": {
      "text/plain": [
       "[Document(id='aede20c7-ffcb-4103-b46d-ccbe3e913f19', metadata={'row': 297.0, 'source': './recipes.csv'}, page_content=': 297\\nhref: https://veganuary.com/recipes/crispy-salt-pepper-spiced-tofu/\\ntitle: Crispy Salt and Pepper Spiced Tofu\\ningredients: Ingredients'),\n",
       " Document(id='ff2752d2-55ea-4cb3-979d-bbb608ca927e', metadata={'row': 1168.0, 'source': './recipes.csv'}, page_content='Place tofu on several layers of heavy-duty paper towels or dish cloth, let stand 20 minutes. Cut into 1/2-inch cubes.\\nHeat oil in a medium saucepan over medium heat. Add tofu and dash of garlic powder, saute 3 minutes, add tamari and sesame seeds, cook another 2 minutes or so, until tofu is lightly golden on each side. Remove tofu from pan and set aside.\\nIn same pan over medium heat, add quinoa and cook 3 minutes, stirring frequently. Add broth and salt, bring to boil. Cover, reduce heat to low and simmer 15 minutes. Remove from heat, uncover, add tofu but do not stir, and let set 10 min to soak up the rest of the water. Add onions and fluff everything together with a fork or spoon.\\nServe with a side of steamed broccoli. Top with a little extra tamari and sesame seeds, plus a little fresh cracked pepper if you like.\\nServes 4\\nNOTES:'),\n",
       " Document(id='62b4c430-62c0-4b71-80ea-95077e43c72e', metadata={'row': 297.0, 'source': './recipes.csv'}, page_content='Method\\n\\nUnpackage the tofu and drain well, squeezing the excess moisture over the sink before placing in a clean tea cloth\\nWrap the cloth around the tofu and press down on it to remove as much of the moisture as possible – I find placing it between two chopping boards is a good method\\nCut the tofu into cubes – I find slicing it in half into two flat slabs is a good way to start\\nPlace the tofu in a bowl, add the salt, pepper, spices, and soy sauce and mix gently until all pieces are evenly coated\\nAdd the flour and mix again, until evenly coated\\nHeat the oil in a pan, then carefully add the tofu (you don’t want to burn yourself with splashes of hot oil!)\\nFry the tofu, turning occasionally, until golden\\nServe as is with the garnish or dipping sauce or add at the last minute to your favourite stir fry dish\\nEnjoy!'),\n",
       " Document(id='13b310e9-4ee0-4a63-90b5-fa1897c3698f', metadata={'row': 297.0, 'source': './recipes.csv'}, page_content='400g of firm tub tofu (I used Cauldron Original)\\n1 tsp of Chinese 5-spice (feel free to substitute with your preferred spice)\\n1-2 tablespoons of vegetable oil (rice bran is good as it has a high smoke point, olive oil works well too)\\n1 tablespoon of plain flour (if you’re gluten or wheat intolerant, you can substitute for your preferred flour or use gram/chickpea flour)\\n1 teaspoon of dried chilli flakes (optional) \\nSplash of soy sauce\\n1 sliced chilli, 1 spring onion, few slices of red onion (optional – for garnish)\\n2 tablespoons of oil (rice brand oil is good as it has a high smoke point but olive oil works well too) \\nSalt & pepper\\nYour favourite vegan dipping sauce – I love sweet chilli with this dish\\npreparation: Preparation\\nI know tofu can be a little daunting to cook with if you haven’t used it before, particularly if you’re a new vegan and attempt to treat it like you might have done a non-vegan protein source.')]"
      ]
     },
     "execution_count": 1,
     "metadata": {},
     "output_type": "execute_result"
    }
   ],
   "source": [
    "from pinecone import Pinecone\n",
    "from langchain_pinecone import PineconeVectorStore\n",
    "import os\n",
    "from langchain_openai import OpenAIEmbeddings\n",
    "\n",
    "index_name = \"recipes\"\n",
    "\n",
    "pinecone_api_key = os.getenv(\"PINECONE_API_KEY\")\n",
    "\n",
    "pc = Pinecone(api_key=pinecone_api_key)\n",
    "\n",
    "index = pc.Index(index_name)\n",
    "\n",
    "embeddings = OpenAIEmbeddings(model=\"text-embedding-3-small\", dimensions=1024)\n",
    "\n",
    "vectorstore = PineconeVectorStore.from_existing_index(\n",
    "    index_name,\n",
    "    embeddings,\n",
    ")\n",
    "\n",
    "docs = vectorstore.similarity_search(\"tofu\")\n",
    "\n",
    "docs"
   ]
  }
 ],
 "metadata": {
  "kernelspec": {
   "display_name": "env",
   "language": "python",
   "name": "python3"
  },
  "language_info": {
   "codemirror_mode": {
    "name": "ipython",
    "version": 3
   },
   "file_extension": ".py",
   "mimetype": "text/x-python",
   "name": "python",
   "nbconvert_exporter": "python",
   "pygments_lexer": "ipython3",
   "version": "3.11.6"
  }
 },
 "nbformat": 4,
 "nbformat_minor": 5
}
