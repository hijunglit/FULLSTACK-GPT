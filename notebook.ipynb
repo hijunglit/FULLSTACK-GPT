{
 "cells": [
  {
   "cell_type": "code",
   "execution_count": null,
   "id": "2e138f97",
   "metadata": {},
   "outputs": [],
   "source": [
    "from langchain.chat_models import ChatOpenAI\n",
    "from langchain.prompts import PromptTemplate, ChatPromptTemplate\n",
    "from langchain.callbacks import StreamingStdOutCallbackHandler\n",
    "\n",
    "chat = ChatOpenAI(\n",
    "    temperature=0.1,\n",
    "    streaming=True,\n",
    "    callbacks=[StreamingStdOutCallbackHandler]\n",
    "    )\n",
    "\n",
    "chef_prompt = ChatPromptTemplate.from_messages([\n",
    "    (\n",
    "        \"system\",\n",
    "        \"\",\n",
    "    ),\n",
    "    (\"human\", \"I want to cook {cuisine} food.\"),\n",
    "])\n",
    "\n",
    "chef_chain = chef_prompt | chat"
   ]
  },
  {
   "cell_type": "code",
   "execution_count": 35,
   "id": "5e0ee107",
   "metadata": {},
   "outputs": [
    {
     "data": {
      "text/plain": [
       "AIMessage(content='These are all classic Indian dishes that can easily be made vegetarian with a few ingredient swaps. Here are some alternatives for the non-vegetarian ingredients:\\n\\n1. Butter Chicken: Substitute the chicken with paneer (Indian cottage cheese) or tofu. Marinate the paneer or tofu in a mixture of yogurt and spices before cooking it in the creamy tomato and butter sauce.\\n\\n2. Chana Masala: This dish is already vegetarian! Just make sure to use vegetable oil instead of ghee for a vegan version.\\n\\n3. Palak Paneer: Replace the paneer with tofu or boiled and cubed potatoes for a similar texture. You can also use cashew cream or coconut milk to make the curry creamy.\\n\\n4. Biryani: Skip the meat and add more vegetables like carrots, peas, and potatoes. You can also use soy chunks or tofu for a protein boost.\\n\\n5. Aloo Gobi: This dish is naturally vegetarian! Just make sure to use vegan butter or oil instead of ghee.\\n\\n6. Dal Tadka: Use vegetable oil instead of ghee for tempering the lentils. You can also add coconut milk or cashew cream for a creamy texture.\\n\\nThese substitutions will help you create delicious vegetarian versions of these traditional Indian dishes without compromising on flavor. Enjoy cooking!')"
      ]
     },
     "execution_count": 35,
     "metadata": {},
     "output_type": "execute_result"
    }
   ],
   "source": [
    "veg_chef_prompt = ChatPromptTemplate.from_messages([\n",
    "    (\n",
    "        \"system\",\n",
    "        \"You are a vegetarian chef specialized on making traditional recipies vegetarian. You find alternative ingredients and explain their preparation. You don't radically modify the recipe. If there is no alternative for a food just say you don't know how to replace it.\",\n",
    "    ),\n",
    "    (\"human\", \"{recipe}\"),\n",
    "])\n",
    "\n",
    "veg_chain = veg_chef_prompt | chat\n",
    "\n",
    "final_chain = {\"recipe\": chef_chain} | veg_chain\n",
    "\n",
    "final_chain.invoke({\n",
    "    \"cuisine\": \"indian\"\n",
    "})\n"
   ]
  }
 ],
 "metadata": {
  "kernelspec": {
   "display_name": "env",
   "language": "python",
   "name": "python3"
  },
  "language_info": {
   "codemirror_mode": {
    "name": "ipython",
    "version": 3
   },
   "file_extension": ".py",
   "mimetype": "text/x-python",
   "name": "python",
   "nbconvert_exporter": "python",
   "pygments_lexer": "ipython3",
   "version": "3.11.6"
  }
 },
 "nbformat": 4,
 "nbformat_minor": 5
}
